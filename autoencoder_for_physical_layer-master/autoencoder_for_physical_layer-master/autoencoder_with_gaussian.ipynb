{
 "cells": [
  {
   "cell_type": "code",
   "execution_count": 1,
   "metadata": {},
   "outputs": [
    {
     "name": "stderr",
     "output_type": "stream",
     "text": [
      "Using TensorFlow backend.\n"
     ]
    }
   ],
   "source": [
    "# MIT License\n",
    "\n",
    "# Copyright (c) [2019] [Jayden Booth]\n",
    "\n",
    "# Permission is hereby granted, free of charge, to any person obtaining a copy\n",
    "# of this software and associated documentation files (the \"Software\"), to deal\n",
    "# in the Software without restriction, including without limitation the rights\n",
    "# to use, copy, modify, merge, publish, distribute, sublicense, and/or sell\n",
    "# copies of the Software, and to permit persons to whom the Software is\n",
    "# furnished to do so, subject to the following conditions:\n",
    "\n",
    "# The above copyright notice and this permission notice shall be included in all\n",
    "# copies or substantial portions of the Software.\n",
    "\n",
    "# THE SOFTWARE IS PROVIDED \"AS IS\", WITHOUT WARRANTY OF ANY KIND, EXPRESS OR\n",
    "# IMPLIED, INCLUDING BUT NOT LIMITED TO THE WARRANTIES OF MERCHANTABILITY,\n",
    "# FITNESS FOR A PARTICULAR PURPOSE AND NONINFRINGEMENT. IN NO EVENT SHALL THE\n",
    "# AUTHORS OR COPYRIGHT HOLDERS BE LIABLE FOR ANY CLAIM, DAMAGES OR OTHER\n",
    "# LIABILITY, WHETHER IN AN ACTION OF CONTRACT, TORT OR OTHERWISE, ARISING FROM,\n",
    "# OUT OF OR IN CONNECTION WITH THE SOFTWARE OR THE USE OR OTHER DEALINGS IN THE\n",
    "# SOFTWARE.\n",
    "\n",
    "# Import Libraries\n",
    "import numpy as np\n",
    "import tensorflow as tf\n",
    "import keras\n",
    "from keras.layers import Input, Dense, GaussianNoise,Lambda,Dropout, Concatenate\n",
    "from keras.models import Model\n",
    "from keras import regularizers\n",
    "from keras.layers.normalization import BatchNormalization\n",
    "from keras.optimizers import Adam,SGD\n",
    "from keras import backend as K\n",
    "%matplotlib inline"
   ]
  },
  {
   "cell_type": "code",
   "execution_count": 2,
   "metadata": {},
   "outputs": [],
   "source": [
    "# Set random seeds\n",
    "from numpy.random import seed\n",
    "seed(1)\n",
    "from tensorflow import set_random_seed\n",
    "set_random_seed(3)"
   ]
  },
  {
   "cell_type": "code",
   "execution_count": 3,
   "metadata": {},
   "outputs": [
    {
     "name": "stdout",
     "output_type": "stream",
     "text": [
      "M: 16 \t n: 1\n"
     ]
    }
   ],
   "source": [
    "# Set the defining parameters\n",
    "# n = n_channel complex numbers (so 2n real numbers)\n",
    "# k = log2(M), where M is the number of messages to encode\n",
    "# EbNo is the energy per bit to noise power density\n",
    "\n",
    "# Encoder Parameters\n",
    "M = 16\n",
    "k = np.log2(M)\n",
    "n_channel = 1\n",
    "R = k/n_channel\n",
    "tx_power = 2\n",
    "print('M:',M,'\\t','n:',n_channel)\n",
    "\n",
    "# Channel Parameters\n",
    "EbNo=10.0**(7/10.0)\n",
    "noise_std = np.sqrt(1/(2*R*EbNo))\n",
    "num_taps = 1\n",
    "reyleigh_std = num_taps/np.sqrt(2)"
   ]
  },
  {
   "cell_type": "code",
   "execution_count": 4,
   "metadata": {},
   "outputs": [],
   "source": [
    "#generating data of size N\n",
    "N = 16000\n",
    "label = np.random.randint(M,size=N)"
   ]
  },
  {
   "cell_type": "code",
   "execution_count": 5,
   "metadata": {},
   "outputs": [],
   "source": [
    "# creating one hot encoded vectors\n",
    "data = []\n",
    "for i in label:\n",
    "    temp = np.zeros(M)\n",
    "    temp[i] = 1\n",
    "    data.append(temp)"
   ]
  },
  {
   "cell_type": "code",
   "execution_count": 6,
   "metadata": {},
   "outputs": [
    {
     "name": "stdout",
     "output_type": "stream",
     "text": [
      "(16000, 16)\n"
     ]
    }
   ],
   "source": [
    "# checking data shape\n",
    "data = np.array(data)\n",
    "print (data.shape)"
   ]
  },
  {
   "cell_type": "code",
   "execution_count": 7,
   "metadata": {},
   "outputs": [
    {
     "name": "stdout",
     "output_type": "stream",
     "text": [
      "9 [0. 0. 0. 0. 0. 0. 0. 0. 0. 1. 0. 0. 0. 0. 0. 0.]\n",
      "4 [0. 0. 0. 0. 1. 0. 0. 0. 0. 0. 0. 0. 0. 0. 0. 0.]\n",
      "13 [0. 0. 0. 0. 0. 0. 0. 0. 0. 0. 0. 0. 0. 1. 0. 0.]\n",
      "3 [0. 0. 0. 1. 0. 0. 0. 0. 0. 0. 0. 0. 0. 0. 0. 0.]\n",
      "9 [0. 0. 0. 0. 0. 0. 0. 0. 0. 1. 0. 0. 0. 0. 0. 0.]\n",
      "7 [0. 0. 0. 0. 0. 0. 0. 1. 0. 0. 0. 0. 0. 0. 0. 0.]\n",
      "12 [0. 0. 0. 0. 0. 0. 0. 0. 0. 0. 0. 0. 1. 0. 0. 0.]\n",
      "15 [0. 0. 0. 0. 0. 0. 0. 0. 0. 0. 0. 0. 0. 0. 0. 1.]\n",
      "12 [0. 0. 0. 0. 0. 0. 0. 0. 0. 0. 0. 0. 1. 0. 0. 0.]\n"
     ]
    }
   ],
   "source": [
    "# checking generated data with it's label\n",
    "temp_check = [17,23,45,67,89,96,72,250,350]\n",
    "for i in temp_check:\n",
    "    print(label[i],data[i])"
   ]
  },
  {
   "cell_type": "code",
   "execution_count": 8,
   "metadata": {},
   "outputs": [],
   "source": [
    "# Average Power Normalization\n",
    "def fixed_power_norm(x):\n",
    "    P_avg = 0.04\n",
    "    beta = K.sqrt(K.sum(K.square(x)))\n",
    "    return x / beta"
   ]
  },
  {
   "cell_type": "code",
   "execution_count": 9,
   "metadata": {},
   "outputs": [
    {
     "name": "stderr",
     "output_type": "stream",
     "text": [
      "WARNING: Logging before flag parsing goes to stderr.\n",
      "W0718 12:59:58.382695 140555158988608 deprecation_wrapper.py:119] From /usr/local/lib/python3.6/dist-packages/keras/backend/tensorflow_backend.py:74: The name tf.get_default_graph is deprecated. Please use tf.compat.v1.get_default_graph instead.\n",
      "\n",
      "W0718 12:59:58.383541 140555158988608 deprecation_wrapper.py:119] From /usr/local/lib/python3.6/dist-packages/keras/backend/tensorflow_backend.py:517: The name tf.placeholder is deprecated. Please use tf.compat.v1.placeholder instead.\n",
      "\n",
      "W0718 12:59:58.386196 140555158988608 deprecation_wrapper.py:119] From /usr/local/lib/python3.6/dist-packages/keras/backend/tensorflow_backend.py:4138: The name tf.random_uniform is deprecated. Please use tf.random.uniform instead.\n",
      "\n",
      "W0718 12:59:58.464284 140555158988608 deprecation_wrapper.py:119] From /usr/local/lib/python3.6/dist-packages/keras/backend/tensorflow_backend.py:133: The name tf.placeholder_with_default is deprecated. Please use tf.compat.v1.placeholder_with_default instead.\n",
      "\n",
      "W0718 12:59:58.490715 140555158988608 deprecation_wrapper.py:119] From /usr/local/lib/python3.6/dist-packages/keras/backend/tensorflow_backend.py:4115: The name tf.random_normal is deprecated. Please use tf.random.normal instead.\n",
      "\n",
      "W0718 12:59:58.536745 140555158988608 deprecation_wrapper.py:119] From /usr/local/lib/python3.6/dist-packages/keras/optimizers.py:790: The name tf.train.Optimizer is deprecated. Please use tf.compat.v1.train.Optimizer instead.\n",
      "\n"
     ]
    }
   ],
   "source": [
    "# Defined Autoencoder\n",
    "\n",
    "# Transmitter Layers\n",
    "input_signal = Input(shape=(M,))\n",
    "encoded = Dense(M, activation='relu')(input_signal)\n",
    "encoded1 = Dense(2*n_channel, activation='linear')(encoded)\n",
    "encoded2 = BatchNormalization()(encoded1)\n",
    "encoded3 = Lambda(lambda x: tx_power/np.sqrt(2)*K.l2_normalize(x,axis=-1))(encoded2)\n",
    "\n",
    "# Gaussian Channel Layer\n",
    "EbNo_train = 5.01187 #  coverted 7 db of EbNo\n",
    "channel1 = GaussianNoise(np.sqrt(1/(2*R*EbNo_train)))(encoded3)\n",
    "\n",
    "# Reciever Layer\n",
    "decoded = Dense(M, activation='relu')(channel1)\n",
    "decoded1 = Dense(M, activation='softmax')(decoded)\n",
    "autoencoder = Model(input_signal, decoded1)\n",
    "adam = Adam(lr=0.01)\n",
    "sgd = SGD(lr=0.02)\n",
    "autoencoder.compile(optimizer=adam, loss='categorical_crossentropy')"
   ]
  },
  {
   "cell_type": "code",
   "execution_count": 10,
   "metadata": {},
   "outputs": [
    {
     "name": "stdout",
     "output_type": "stream",
     "text": [
      "_________________________________________________________________\n",
      "Layer (type)                 Output Shape              Param #   \n",
      "=================================================================\n",
      "input_1 (InputLayer)         (None, 16)                0         \n",
      "_________________________________________________________________\n",
      "dense_1 (Dense)              (None, 16)                272       \n",
      "_________________________________________________________________\n",
      "dense_2 (Dense)              (None, 2)                 34        \n",
      "_________________________________________________________________\n",
      "batch_normalization_1 (Batch (None, 2)                 8         \n",
      "_________________________________________________________________\n",
      "lambda_1 (Lambda)            (None, 2)                 0         \n",
      "_________________________________________________________________\n",
      "gaussian_noise_1 (GaussianNo (None, 2)                 0         \n",
      "_________________________________________________________________\n",
      "dense_3 (Dense)              (None, 16)                48        \n",
      "_________________________________________________________________\n",
      "dense_4 (Dense)              (None, 16)                272       \n",
      "=================================================================\n",
      "Total params: 634\n",
      "Trainable params: 630\n",
      "Non-trainable params: 4\n",
      "_________________________________________________________________\n",
      "None\n"
     ]
    }
   ],
   "source": [
    "# printing summary of layers and it's trainable parameters \n",
    "print (autoencoder.summary())"
   ]
  },
  {
   "cell_type": "code",
   "execution_count": 11,
   "metadata": {},
   "outputs": [
    {
     "name": "stderr",
     "output_type": "stream",
     "text": [
      "W0718 12:59:58.631593 140555158988608 deprecation.py:323] From /usr/local/lib/python3.6/dist-packages/tensorflow/python/ops/math_grad.py:1250: add_dispatch_support.<locals>.wrapper (from tensorflow.python.ops.array_ops) is deprecated and will be removed in a future version.\n",
      "Instructions for updating:\n",
      "Use tf.where in 2.0, which has the same broadcast rule as np.where\n"
     ]
    },
    {
     "name": "stdout",
     "output_type": "stream",
     "text": [
      "Epoch 1/50\n",
      "16000/16000 [==============================] - 1s 78us/step - loss: 2.4376\n",
      "Epoch 2/50\n",
      "16000/16000 [==============================] - 0s 4us/step - loss: 1.8235\n",
      "Epoch 3/50\n",
      "16000/16000 [==============================] - 0s 4us/step - loss: 1.4144\n",
      "Epoch 4/50\n",
      "16000/16000 [==============================] - 0s 4us/step - loss: 1.1208\n",
      "Epoch 5/50\n",
      "16000/16000 [==============================] - 0s 4us/step - loss: 0.9124\n",
      "Epoch 6/50\n",
      "16000/16000 [==============================] - 0s 4us/step - loss: 0.7711\n",
      "Epoch 7/50\n",
      "16000/16000 [==============================] - 0s 4us/step - loss: 0.6736\n",
      "Epoch 8/50\n",
      "16000/16000 [==============================] - 0s 4us/step - loss: 0.5989\n",
      "Epoch 9/50\n",
      "16000/16000 [==============================] - 0s 4us/step - loss: 0.5381\n",
      "Epoch 10/50\n",
      "16000/16000 [==============================] - 0s 4us/step - loss: 0.4965\n",
      "Epoch 11/50\n",
      "16000/16000 [==============================] - 0s 4us/step - loss: 0.4600\n",
      "Epoch 12/50\n",
      "16000/16000 [==============================] - 0s 4us/step - loss: 0.4270\n",
      "Epoch 13/50\n",
      "16000/16000 [==============================] - 0s 4us/step - loss: 0.4085\n",
      "Epoch 14/50\n",
      "16000/16000 [==============================] - 0s 4us/step - loss: 0.3865\n",
      "Epoch 15/50\n",
      "16000/16000 [==============================] - 0s 4us/step - loss: 0.3542\n",
      "Epoch 16/50\n",
      "16000/16000 [==============================] - 0s 5us/step - loss: 0.3391\n",
      "Epoch 17/50\n",
      "16000/16000 [==============================] - 0s 4us/step - loss: 0.3400\n",
      "Epoch 18/50\n",
      "16000/16000 [==============================] - 0s 4us/step - loss: 0.3249\n",
      "Epoch 19/50\n",
      "16000/16000 [==============================] - 0s 4us/step - loss: 0.3038\n",
      "Epoch 20/50\n",
      "16000/16000 [==============================] - 0s 4us/step - loss: 0.3038\n",
      "Epoch 21/50\n",
      "16000/16000 [==============================] - 0s 4us/step - loss: 0.2921\n",
      "Epoch 22/50\n",
      "16000/16000 [==============================] - 0s 4us/step - loss: 0.2994\n",
      "Epoch 23/50\n",
      "16000/16000 [==============================] - 0s 4us/step - loss: 0.2768\n",
      "Epoch 24/50\n",
      "16000/16000 [==============================] - 0s 4us/step - loss: 0.2755\n",
      "Epoch 25/50\n",
      "16000/16000 [==============================] - 0s 4us/step - loss: 0.2740\n",
      "Epoch 26/50\n",
      "16000/16000 [==============================] - 0s 4us/step - loss: 0.2770\n",
      "Epoch 27/50\n",
      "16000/16000 [==============================] - 0s 4us/step - loss: 0.2767\n",
      "Epoch 28/50\n",
      "16000/16000 [==============================] - 0s 4us/step - loss: 0.2737\n",
      "Epoch 29/50\n",
      "16000/16000 [==============================] - 0s 4us/step - loss: 0.2680\n",
      "Epoch 30/50\n",
      "16000/16000 [==============================] - 0s 4us/step - loss: 0.2754\n",
      "Epoch 31/50\n",
      "16000/16000 [==============================] - 0s 7us/step - loss: 0.2706\n",
      "Epoch 32/50\n",
      "16000/16000 [==============================] - 0s 3us/step - loss: 0.2565\n",
      "Epoch 33/50\n",
      "16000/16000 [==============================] - 0s 4us/step - loss: 0.2585\n",
      "Epoch 34/50\n",
      "16000/16000 [==============================] - 0s 4us/step - loss: 0.2650\n",
      "Epoch 35/50\n",
      "16000/16000 [==============================] - 0s 4us/step - loss: 0.2569\n",
      "Epoch 36/50\n",
      "16000/16000 [==============================] - 0s 4us/step - loss: 0.2529\n",
      "Epoch 37/50\n",
      "16000/16000 [==============================] - 0s 4us/step - loss: 0.2639\n",
      "Epoch 38/50\n",
      "16000/16000 [==============================] - 0s 4us/step - loss: 0.2519\n",
      "Epoch 39/50\n",
      "16000/16000 [==============================] - 0s 4us/step - loss: 0.2491\n",
      "Epoch 40/50\n",
      "16000/16000 [==============================] - 0s 4us/step - loss: 0.2676\n",
      "Epoch 41/50\n",
      "16000/16000 [==============================] - 0s 4us/step - loss: 0.2749\n",
      "Epoch 42/50\n",
      "16000/16000 [==============================] - 0s 4us/step - loss: 0.2415\n",
      "Epoch 43/50\n",
      "16000/16000 [==============================] - 0s 4us/step - loss: 0.2448\n",
      "Epoch 44/50\n",
      "16000/16000 [==============================] - 0s 4us/step - loss: 0.2478\n",
      "Epoch 45/50\n",
      "16000/16000 [==============================] - 0s 4us/step - loss: 0.2456\n",
      "Epoch 46/50\n",
      "16000/16000 [==============================] - 0s 4us/step - loss: 0.2593\n",
      "Epoch 47/50\n",
      "16000/16000 [==============================] - 0s 5us/step - loss: 0.2488\n",
      "Epoch 48/50\n",
      "16000/16000 [==============================] - 0s 4us/step - loss: 0.2593\n",
      "Epoch 49/50\n",
      "16000/16000 [==============================] - 0s 4us/step - loss: 0.2470\n",
      "Epoch 50/50\n",
      "16000/16000 [==============================] - 0s 4us/step - loss: 0.2455\n"
     ]
    },
    {
     "data": {
      "text/plain": [
       "<keras.callbacks.History at 0x7fd5028836a0>"
      ]
     },
     "execution_count": 11,
     "metadata": {},
     "output_type": "execute_result"
    }
   ],
   "source": [
    "# traning auto encoder\n",
    "autoencoder.fit(data, data,\n",
    "                epochs=50,\n",
    "                batch_size=1024)"
   ]
  },
  {
   "cell_type": "code",
   "execution_count": 12,
   "metadata": {},
   "outputs": [],
   "source": [
    "# making encoder from full autoencoder\n",
    "encoder = Model(input_signal, encoded3)"
   ]
  },
  {
   "cell_type": "code",
   "execution_count": 13,
   "metadata": {},
   "outputs": [],
   "source": [
    "# making channel from full autoencoder\n",
    "channel_input = Input(shape=(2*n_channel,))\n",
    "\n",
    "chan = autoencoder.layers[-3](channel_input)\n",
    "channel_layer = Model(channel_input,chan)"
   ]
  },
  {
   "cell_type": "code",
   "execution_count": 14,
   "metadata": {},
   "outputs": [],
   "source": [
    "# making decoder from full autoencoder\n",
    "encoded_input = Input(shape=(2*n_channel,))\n",
    "\n",
    "deco = autoencoder.layers[-2](encoded_input)\n",
    "deco = autoencoder.layers[-1](deco)\n",
    "decoder = Model(encoded_input, deco)"
   ]
  },
  {
   "cell_type": "code",
   "execution_count": 15,
   "metadata": {},
   "outputs": [],
   "source": [
    "# generating data for checking BER\n",
    "N = 100000\n",
    "test_label = np.random.randint(M,size=N)\n",
    "test_data = []\n",
    "\n",
    "for i in test_label:\n",
    "    temp = np.zeros(M)\n",
    "    temp[i] = 1\n",
    "    test_data.append(temp)\n",
    "    \n",
    "test_data = np.array(test_data)"
   ]
  },
  {
   "cell_type": "code",
   "execution_count": 16,
   "metadata": {},
   "outputs": [
    {
     "name": "stdout",
     "output_type": "stream",
     "text": [
      "(16, 1, 2)\n"
     ]
    }
   ],
   "source": [
    "# for plotting learned consteallation diagram\n",
    "\n",
    "scatter_plot = []\n",
    "for i in range(0,M):\n",
    "    temp = np.zeros(M)\n",
    "    temp[i] = 1\n",
    "    scatter_plot.append(encoder.predict(np.expand_dims(temp,axis=0)))\n",
    "scatter_plot = 1.5/2*np.array(scatter_plot)\n",
    "print (scatter_plot.shape)"
   ]
  },
  {
   "cell_type": "code",
   "execution_count": 17,
   "metadata": {},
   "outputs": [
    {
     "data": {
      "image/png": "[encoded data removed]",
      "text/plain": [
       "<Figure size 432x288 with 1 Axes>"
      ]
     },
     "metadata": {
      "needs_background": "light"
     },
     "output_type": "display_data"
    }
   ],
   "source": [
    "# ploting constellation diagram\n",
    "import matplotlib.pyplot as plt\n",
    "scatter_plot = scatter_plot.reshape(M,2,1)\n",
    "plt.scatter(scatter_plot[:,0],scatter_plot[:,1])\n",
    "#plt.axis((-2.5,2.5,-2.5,2.5))\n",
    "plt.grid()\n",
    "plt.xlabel('I Axis')\n",
    "plt.ylabel('Q Axis')\n",
    "plt.show()"
   ]
  },
  {
   "cell_type": "code",
   "execution_count": 18,
   "metadata": {},
   "outputs": [
    {
     "name": "stdout",
     "output_type": "stream",
     "text": [
      "SNR: 0 BER: 0.45201\n",
      "SNR: 2 BER: 0.35282\n",
      "SNR: 4 BER: 0.24923\n",
      "SNR: 6 BER: 0.16253\n",
      "SNR: 8 BER: 0.09706\n",
      "SNR: 10 BER: 0.05061\n",
      "SNR: 12 BER: 0.02182\n",
      "SNR: 14 BER: 0.00742\n",
      "SNR: 16 BER: 0.00177\n",
      "SNR: 18 BER: 0.00023\n",
      "SNR: 20 BER: 0.0\n"
     ]
    }
   ],
   "source": [
    "# Calculating BER from 0dB to 20dB SNR\n",
    "EbNodB_range = list(np.arange(0,20+1,2))\n",
    "ber = [None]*len(EbNodB_range)\n",
    "for n in range(0,len(EbNodB_range)):\n",
    "    EbNo=10.0**(EbNodB_range[n]/10.0)\n",
    "    noise_std = np.sqrt(1/(2*R*EbNo))\n",
    "    noise_mean = 0\n",
    "    no_errors = 0\n",
    "    nn = N\n",
    "    noise = noise_std*np.random.randn(nn,2*n_channel)\n",
    "    encoded_signal = encoder.predict(test_data) \n",
    "    final_signal = encoded_signal+noise\n",
    "    pred_final_signal =  decoder.predict(final_signal)\n",
    "    pred_output = np.argmax(pred_final_signal,axis=1)\n",
    "    no_errors = (pred_output != test_label)\n",
    "    no_errors =  no_errors.astype(int).sum()\n",
    "    ber[n] = no_errors / nn \n",
    "    print ('SNR:',EbNodB_range[n],'BER:',ber[n])"
   ]
  },
  {
   "cell_type": "code",
   "execution_count": 19,
   "metadata": {},
   "outputs": [
    {
     "data": {
      "image/png": "[encoded data removed]",
      "text/plain": [
       "<Figure size 432x288 with 1 Axes>"
      ]
     },
     "metadata": {
      "needs_background": "light"
     },
     "output_type": "display_data"
    }
   ],
   "source": [
    "# ploting BER curve\n",
    "import matplotlib.pyplot as plt\n",
    "from scipy import interpolate\n",
    "plt.plot(EbNodB_range, ber, 'bo',label='Autoencoder(1,2)')\n",
    "plt.yscale('log')\n",
    "plt.xlabel('SNR Range')\n",
    "plt.ylabel('Block Error Rate')\n",
    "plt.grid()\n",
    "plt.legend(loc='upper right',ncol = 1)\n",
    "plt.show()"
   ]
  },
  {
   "cell_type": "code",
   "execution_count": null,
   "metadata": {},
   "outputs": [],
   "source": []
  }
 ],
 "metadata": {
  "kernelspec": {
   "display_name": "Python 3",
   "language": "python",
   "name": "python3"
  },
  "language_info": {
   "codemirror_mode": {
    "name": "ipython",
    "version": 3
   },
   "file_extension": ".py",
   "mimetype": "text/x-python",
   "name": "python",
   "nbconvert_exporter": "python",
   "pygments_lexer": "ipython3",
   "version": "3.6.8"
  }
 },
 "nbformat": 4,
 "nbformat_minor": 2
}
