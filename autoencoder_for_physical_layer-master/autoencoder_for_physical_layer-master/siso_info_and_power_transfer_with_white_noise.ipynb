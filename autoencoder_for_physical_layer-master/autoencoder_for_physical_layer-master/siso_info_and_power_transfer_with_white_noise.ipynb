{
 "cells": [
  {
   "cell_type": "code",
   "execution_count": 1,
   "metadata": {},
   "outputs": [
    {
     "name": "stderr",
     "output_type": "stream",
     "text": [
      "Using TensorFlow backend.\n"
     ]
    }
   ],
   "source": [
    "# MIT License\n",
    "\n",
    "# Copyright (c) [2019] [Jayden Booth]\n",
    "\n",
    "# Permission is hereby granted, free of charge, to any person obtaining a copy\n",
    "# of this software and associated documentation files (the \"Software\"), to deal\n",
    "# in the Software without restriction, including without limitation the rights\n",
    "# to use, copy, modify, merge, publish, distribute, sublicense, and/or sell\n",
    "# copies of the Software, and to permit persons to whom the Software is\n",
    "# furnished to do so, subject to the following conditions:\n",
    "\n",
    "# The above copyright notice and this permission notice shall be included in all\n",
    "# copies or substantial portions of the Software.\n",
    "\n",
    "# THE SOFTWARE IS PROVIDED \"AS IS\", WITHOUT WARRANTY OF ANY KIND, EXPRESS OR\n",
    "# IMPLIED, INCLUDING BUT NOT LIMITED TO THE WARRANTIES OF MERCHANTABILITY,\n",
    "# FITNESS FOR A PARTICULAR PURPOSE AND NONINFRINGEMENT. IN NO EVENT SHALL THE\n",
    "# AUTHORS OR COPYRIGHT HOLDERS BE LIABLE FOR ANY CLAIM, DAMAGES OR OTHER\n",
    "# LIABILITY, WHETHER IN AN ACTION OF CONTRACT, TORT OR OTHERWISE, ARISING FROM,\n",
    "# OUT OF OR IN CONNECTION WITH THE SOFTWARE OR THE USE OR OTHER DEALINGS IN THE\n",
    "# SOFTWARE.\n",
    "\n",
    "# Import Relevant Libraries\n",
    "import numpy as np\n",
    "from scipy import special\n",
    "import tensorflow as tf\n",
    "from keras.layers import Input, Dense, GaussianNoise, Lambda, concatenate, Reshape\n",
    "from keras.models import Model\n",
    "from keras import regularizers\n",
    "from keras.layers.normalization import BatchNormalization\n",
    "from keras.optimizers import Adam,SGD\n",
    "from keras import backend as K\n",
    "from keras.losses import categorical_crossentropy\n",
    "import random as rn\n",
    "%matplotlib inline"
   ]
  },
  {
   "cell_type": "code",
   "execution_count": 2,
   "metadata": {},
   "outputs": [],
   "source": [
    "# Set random seed for reproducing results\n",
    "from numpy.random import seed\n",
    "seed(1)\n",
    "from tensorflow import set_random_seed\n",
    "set_random_seed(3)"
   ]
  },
  {
   "cell_type": "code",
   "execution_count": 3,
   "metadata": {},
   "outputs": [
    {
     "name": "stdout",
     "output_type": "stream",
     "text": [
      "M: 16 k: 4 n: 1\n"
     ]
    }
   ],
   "source": [
    "# defining parameters\n",
    "# define (n,k) here for (n,k) autoencoder\n",
    "# n = n_channel \n",
    "# k = log2(M)  ==> so for (7,4) autoencoder n_channel = 7 and M = 2^4 = 16\n",
    "\n",
    "# Transmitter Params\n",
    "M = 16\n",
    "k = np.log2(M)\n",
    "k = int(k)\n",
    "n_channel = 1\n",
    "R = k/n_channel\n",
    "\n",
    "# Receiver Params\n",
    "power_weight_param = 1\n",
    "antenna_impedance = 50\n",
    "diode_ideality_factor = 1\n",
    "diode_thermal_voltage = 0.02585\n",
    "print ('M:',M,'k:',k,'n:',n_channel)"
   ]
  },
  {
   "cell_type": "code",
   "execution_count": 4,
   "metadata": {},
   "outputs": [],
   "source": [
    "# Generating data of size N\n",
    "N = 100000\n",
    "label = np.random.randint(M,size=N)"
   ]
  },
  {
   "cell_type": "code",
   "execution_count": 5,
   "metadata": {},
   "outputs": [],
   "source": [
    "# Creating one hot encoded vectors\n",
    "data = np.zeros((N,M))\n",
    "\n",
    "for i in np.arange(0,N):\n",
    "    data[i,label[i]] = 1"
   ]
  },
  {
   "cell_type": "code",
   "execution_count": 6,
   "metadata": {},
   "outputs": [
    {
     "name": "stdout",
     "output_type": "stream",
     "text": [
      "(100000, 16)\n"
     ]
    }
   ],
   "source": [
    "# Checking data shape\n",
    "data = np.array(data)\n",
    "print(data.shape)"
   ]
  },
  {
   "cell_type": "code",
   "execution_count": 7,
   "metadata": {},
   "outputs": [
    {
     "name": "stdout",
     "output_type": "stream",
     "text": [
      "9 [0. 0. 0. 0. 0. 0. 0. 0. 0. 1. 0. 0. 0. 0. 0. 0.]\n",
      "15 [0. 0. 0. 0. 0. 0. 0. 0. 0. 0. 0. 0. 0. 0. 0. 1.]\n",
      "5 [0. 0. 0. 0. 0. 1. 0. 0. 0. 0. 0. 0. 0. 0. 0. 0.]\n",
      "4 [0. 0. 0. 0. 1. 0. 0. 0. 0. 0. 0. 0. 0. 0. 0. 0.]\n",
      "11 [0. 0. 0. 0. 0. 0. 0. 0. 0. 0. 0. 1. 0. 0. 0. 0.]\n",
      "6 [0. 0. 0. 0. 0. 0. 1. 0. 0. 0. 0. 0. 0. 0. 0. 0.]\n",
      "10 [0. 0. 0. 0. 0. 0. 0. 0. 0. 0. 1. 0. 0. 0. 0. 0.]\n",
      "7 [0. 0. 0. 0. 0. 0. 0. 1. 0. 0. 0. 0. 0. 0. 0. 0.]\n",
      "8 [0. 0. 0. 0. 0. 0. 0. 0. 1. 0. 0. 0. 0. 0. 0. 0.]\n",
      "10 [0. 0. 0. 0. 0. 0. 0. 0. 0. 0. 1. 0. 0. 0. 0. 0.]\n"
     ]
    }
   ],
   "source": [
    "# Check data\n",
    "temp_check = np.random.randint(N,size=10)\n",
    "\n",
    "for i in temp_check:\n",
    "    print(label[i],data[i])\n",
    "    \n",
    "out_data = [data,np.zeros(N)]"
   ]
  },
  {
   "cell_type": "code",
   "execution_count": 8,
   "metadata": {},
   "outputs": [],
   "source": [
    "# Custom Loss Function\n",
    "# loss = cross entropy of one-hot message plus inverse of power times a constant\n",
    "# y_pred containts M values for one-hot message and then 1 value corresponding to the recieved power\n",
    "def power_cross_entropy(y_true,y_pred):\n",
    "    M_pred = y_pred[:,0:M]\n",
    "    power = y_pred[:,M]\n",
    "    M_true = y_true\n",
    "    e_loss = K.sum(K.categorical_crossentropy(M_true,M_pred))\n",
    "    p_loss = K.sum(power_weight_param / power)\n",
    "    num_inputs = K.shape(y_true)[0]\n",
    "    \n",
    "    return (e_loss + p_loss) / K.cast(num_inputs,'float32')\n",
    "\n",
    "# Calculate the recieved power of the signal\n",
    "# Derivation is shown in \"A Learning Approach to Wireless Information and Power Transfer Signal and System Design\"\n",
    "# by Morteza Varsteh, Enrico Piovano, and Bruno Clerckx\n",
    "# Input is a complex number representing recieved signal\n",
    "# Output is the recieved power\n",
    "def recieved_power(x):\n",
    "    mag_x = K.sqrt(K.sum(K.square(x),axis=1))\n",
    "    B = np.sqrt(antenna_impedance)/(diode_ideality_factor*diode_thermal_voltage)\n",
    "    \n",
    "    return tf.math.bessel_i0(mag_x)\n",
    "    "
   ]
  },
  {
   "cell_type": "code",
   "execution_count": 9,
   "metadata": {
    "scrolled": false
   },
   "outputs": [
    {
     "name": "stderr",
     "output_type": "stream",
     "text": [
      "WARNING: Logging before flag parsing goes to stderr.\n",
      "W0801 18:56:29.952365 140576298309440 deprecation_wrapper.py:119] From /usr/local/lib/python3.6/dist-packages/keras/backend/tensorflow_backend.py:74: The name tf.get_default_graph is deprecated. Please use tf.compat.v1.get_default_graph instead.\n",
      "\n",
      "W0801 18:56:29.954511 140576298309440 deprecation_wrapper.py:119] From /usr/local/lib/python3.6/dist-packages/keras/backend/tensorflow_backend.py:517: The name tf.placeholder is deprecated. Please use tf.compat.v1.placeholder instead.\n",
      "\n",
      "W0801 18:56:29.960292 140576298309440 deprecation_wrapper.py:119] From /usr/local/lib/python3.6/dist-packages/keras/backend/tensorflow_backend.py:4138: The name tf.random_uniform is deprecated. Please use tf.random.uniform instead.\n",
      "\n",
      "W0801 18:56:30.103024 140576298309440 deprecation_wrapper.py:119] From /usr/local/lib/python3.6/dist-packages/keras/backend/tensorflow_backend.py:133: The name tf.placeholder_with_default is deprecated. Please use tf.compat.v1.placeholder_with_default instead.\n",
      "\n",
      "W0801 18:56:30.149303 140576298309440 deprecation_wrapper.py:119] From /usr/local/lib/python3.6/dist-packages/keras/backend/tensorflow_backend.py:4115: The name tf.random_normal is deprecated. Please use tf.random.normal instead.\n",
      "\n",
      "W0801 18:56:30.248237 140576298309440 deprecation_wrapper.py:119] From /usr/local/lib/python3.6/dist-packages/keras/optimizers.py:790: The name tf.train.Optimizer is deprecated. Please use tf.compat.v1.train.Optimizer instead.\n",
      "\n"
     ]
    }
   ],
   "source": [
    "# Defined autoencoder\n",
    "\n",
    "# Transmitter\n",
    "input_signal = Input(shape=(M,))\n",
    "encoded = Dense(2*n_channel,activation='relu')(input_signal)\n",
    "encoded1 = Dense(2*n_channel,activation='linear')(encoded)\n",
    "encoded2 = BatchNormalization()(encoded1)\n",
    "encoded3 = Lambda(lambda x:1/np.sqrt(2)*K.l2_normalize(x,axis=-1))(encoded2)\n",
    "\n",
    "# Channel\n",
    "EbNo_train = 5.01187 #  coverted 7 db of EbNo\n",
    "channel = GaussianNoise(np.sqrt(1/(2*R*EbNo_train)))(encoded3)\n",
    "\n",
    "# Reciever\n",
    "decoded = Dense(M,activation='relu')(channel)\n",
    "decoded1 = Dense(M,activation='softmax')(decoded)\n",
    "\n",
    "# P_del\n",
    "p_del = Lambda(recieved_power)(channel)\n",
    "p_del1 = Reshape((1,))(p_del)\n",
    "output = concatenate([decoded1,p_del1])\n",
    "\n",
    "# Model\n",
    "autoencoder = Model(input_signal,output)\n",
    "adam = Adam(lr=0.01)\n",
    "sgd = SGD(lr=0.02)\n",
    "autoencoder.compile(optimizer=adam,loss=power_cross_entropy)"
   ]
  },
  {
   "cell_type": "code",
   "execution_count": 10,
   "metadata": {},
   "outputs": [
    {
     "name": "stdout",
     "output_type": "stream",
     "text": [
      "__________________________________________________________________________________________________\n",
      "Layer (type)                    Output Shape         Param #     Connected to                     \n",
      "==================================================================================================\n",
      "input_1 (InputLayer)            (None, 16)           0                                            \n",
      "__________________________________________________________________________________________________\n",
      "dense_1 (Dense)                 (None, 2)            34          input_1[0][0]                    \n",
      "__________________________________________________________________________________________________\n",
      "dense_2 (Dense)                 (None, 2)            6           dense_1[0][0]                    \n",
      "__________________________________________________________________________________________________\n",
      "batch_normalization_1 (BatchNor (None, 2)            8           dense_2[0][0]                    \n",
      "__________________________________________________________________________________________________\n",
      "lambda_1 (Lambda)               (None, 2)            0           batch_normalization_1[0][0]      \n",
      "__________________________________________________________________________________________________\n",
      "gaussian_noise_1 (GaussianNoise (None, 2)            0           lambda_1[0][0]                   \n",
      "__________________________________________________________________________________________________\n",
      "dense_3 (Dense)                 (None, 16)           48          gaussian_noise_1[0][0]           \n",
      "__________________________________________________________________________________________________\n",
      "lambda_2 (Lambda)               (None,)              0           gaussian_noise_1[0][0]           \n",
      "__________________________________________________________________________________________________\n",
      "dense_4 (Dense)                 (None, 16)           272         dense_3[0][0]                    \n",
      "__________________________________________________________________________________________________\n",
      "reshape_1 (Reshape)             (None, 1)            0           lambda_2[0][0]                   \n",
      "__________________________________________________________________________________________________\n",
      "concatenate_1 (Concatenate)     (None, 17)           0           dense_4[0][0]                    \n",
      "                                                                 reshape_1[0][0]                  \n",
      "==================================================================================================\n",
      "Total params: 368\n",
      "Trainable params: 364\n",
      "Non-trainable params: 4\n",
      "__________________________________________________________________________________________________\n",
      "None\n"
     ]
    }
   ],
   "source": [
    "# printing summary of layers and it's trainable parameters \n",
    "print (autoencoder.summary())"
   ]
  },
  {
   "cell_type": "code",
   "execution_count": 11,
   "metadata": {
    "scrolled": false
   },
   "outputs": [
    {
     "name": "stderr",
     "output_type": "stream",
     "text": [
      "W0801 18:56:30.468563 140576298309440 deprecation.py:323] From /usr/local/lib/python3.6/dist-packages/tensorflow/python/ops/math_grad.py:1250: add_dispatch_support.<locals>.wrapper (from tensorflow.python.ops.array_ops) is deprecated and will be removed in a future version.\n",
      "Instructions for updating:\n",
      "Use tf.where in 2.0, which has the same broadcast rule as np.where\n"
     ]
    },
    {
     "name": "stdout",
     "output_type": "stream",
     "text": [
      "Epoch 1/50\n",
      "100000/100000 [==============================] - 5s 52us/step - loss: 2.0557\n",
      "Epoch 2/50\n",
      "100000/100000 [==============================] - 4s 37us/step - loss: 1.8152\n",
      "Epoch 3/50\n",
      "100000/100000 [==============================] - 4s 36us/step - loss: 1.8040\n",
      "Epoch 4/50\n",
      "100000/100000 [==============================] - 4s 36us/step - loss: 1.7964\n",
      "Epoch 5/50\n",
      "100000/100000 [==============================] - 4s 36us/step - loss: 1.7909\n",
      "Epoch 6/50\n",
      "100000/100000 [==============================] - 4s 36us/step - loss: 1.7927\n",
      "Epoch 7/50\n",
      "100000/100000 [==============================] - 4s 37us/step - loss: 1.7911\n",
      "Epoch 8/50\n",
      "100000/100000 [==============================] - 4s 36us/step - loss: 1.7880\n",
      "Epoch 9/50\n",
      "100000/100000 [==============================] - 4s 38us/step - loss: 1.7837\n",
      "Epoch 10/50\n",
      "100000/100000 [==============================] - 4s 36us/step - loss: 1.7831\n",
      "Epoch 11/50\n",
      "100000/100000 [==============================] - 4s 36us/step - loss: 1.7860\n",
      "Epoch 12/50\n",
      "100000/100000 [==============================] - 4s 35us/step - loss: 1.7845\n",
      "Epoch 13/50\n",
      "100000/100000 [==============================] - 4s 37us/step - loss: 1.7807\n",
      "Epoch 14/50\n",
      "100000/100000 [==============================] - 4s 36us/step - loss: 1.7847\n",
      "Epoch 15/50\n",
      "100000/100000 [==============================] - 4s 36us/step - loss: 1.7839\n",
      "Epoch 16/50\n",
      "100000/100000 [==============================] - 4s 37us/step - loss: 1.7822\n",
      "Epoch 17/50\n",
      "100000/100000 [==============================] - 4s 37us/step - loss: 1.7783\n",
      "Epoch 18/50\n",
      "100000/100000 [==============================] - 4s 37us/step - loss: 1.7805\n",
      "Epoch 19/50\n",
      "100000/100000 [==============================] - 4s 36us/step - loss: 1.7859\n",
      "Epoch 20/50\n",
      "100000/100000 [==============================] - 4s 36us/step - loss: 1.7820\n",
      "Epoch 21/50\n",
      "100000/100000 [==============================] - 4s 36us/step - loss: 1.7807\n",
      "Epoch 22/50\n",
      "100000/100000 [==============================] - 4s 37us/step - loss: 1.7764\n",
      "Epoch 23/50\n",
      "100000/100000 [==============================] - 4s 36us/step - loss: 1.7822\n",
      "Epoch 24/50\n",
      "100000/100000 [==============================] - 4s 36us/step - loss: 1.7820\n",
      "Epoch 25/50\n",
      "100000/100000 [==============================] - 4s 37us/step - loss: 1.7797\n",
      "Epoch 26/50\n",
      "100000/100000 [==============================] - 4s 37us/step - loss: 1.7823\n",
      "Epoch 27/50\n",
      "100000/100000 [==============================] - 4s 36us/step - loss: 1.7800\n",
      "Epoch 28/50\n",
      "100000/100000 [==============================] - 4s 37us/step - loss: 1.7783\n",
      "Epoch 29/50\n",
      "100000/100000 [==============================] - 4s 37us/step - loss: 1.7742\n",
      "Epoch 30/50\n",
      "100000/100000 [==============================] - 4s 36us/step - loss: 1.7754\n",
      "Epoch 31/50\n",
      "100000/100000 [==============================] - 4s 36us/step - loss: 1.7777\n",
      "Epoch 32/50\n",
      "100000/100000 [==============================] - 4s 36us/step - loss: 1.7783\n",
      "Epoch 33/50\n",
      "100000/100000 [==============================] - 4s 37us/step - loss: 1.7743\n",
      "Epoch 34/50\n",
      "100000/100000 [==============================] - 4s 36us/step - loss: 1.7817\n",
      "Epoch 35/50\n",
      "100000/100000 [==============================] - 4s 36us/step - loss: 1.7764\n",
      "Epoch 36/50\n",
      "100000/100000 [==============================] - 4s 36us/step - loss: 1.7842\n",
      "Epoch 37/50\n",
      "100000/100000 [==============================] - 4s 37us/step - loss: 1.7775\n",
      "Epoch 38/50\n",
      "100000/100000 [==============================] - 4s 36us/step - loss: 1.7760\n",
      "Epoch 39/50\n",
      "100000/100000 [==============================] - 4s 36us/step - loss: 1.7771\n",
      "Epoch 40/50\n",
      "100000/100000 [==============================] - 4s 37us/step - loss: 1.7802\n",
      "Epoch 41/50\n",
      "100000/100000 [==============================] - 4s 36us/step - loss: 1.7801\n",
      "Epoch 42/50\n",
      "100000/100000 [==============================] - 4s 36us/step - loss: 1.7795\n",
      "Epoch 43/50\n",
      "100000/100000 [==============================] - 4s 37us/step - loss: 1.7769\n",
      "Epoch 44/50\n",
      "100000/100000 [==============================] - 4s 38us/step - loss: 1.7782\n",
      "Epoch 45/50\n",
      "100000/100000 [==============================] - 4s 37us/step - loss: 1.7760\n",
      "Epoch 46/50\n",
      "100000/100000 [==============================] - 4s 36us/step - loss: 1.7763\n",
      "Epoch 47/50\n",
      "100000/100000 [==============================] - 4s 36us/step - loss: 1.7753\n",
      "Epoch 48/50\n",
      "100000/100000 [==============================] - 4s 37us/step - loss: 1.7800\n",
      "Epoch 49/50\n",
      "100000/100000 [==============================] - 4s 36us/step - loss: 1.7782\n",
      "Epoch 50/50\n",
      "100000/100000 [==============================] - 4s 36us/step - loss: 1.7774\n"
     ]
    },
    {
     "data": {
      "text/plain": [
       "<keras.callbacks.History at 0x7fd9edb8ed30>"
      ]
     },
     "execution_count": 11,
     "metadata": {},
     "output_type": "execute_result"
    }
   ],
   "source": [
    "# traning auto encoder\n",
    "autoencoder.fit(data, data,\n",
    "                epochs=50,\n",
    "                batch_size=256)"
   ]
  },
  {
   "cell_type": "code",
   "execution_count": 12,
   "metadata": {},
   "outputs": [],
   "source": [
    "# making encoder from full autoencoder\n",
    "encoder = Model(input_signal, encoded3)"
   ]
  },
  {
   "cell_type": "code",
   "execution_count": 13,
   "metadata": {},
   "outputs": [],
   "source": [
    "# making decoder from full autoencoder\n",
    "encoded_input = Input(shape=(2*n_channel,))\n",
    "\n",
    "deco = autoencoder.layers[-5](encoded_input)\n",
    "deco = autoencoder.layers[-3](deco)\n",
    "decoder = Model(encoded_input, deco)"
   ]
  },
  {
   "cell_type": "code",
   "execution_count": 14,
   "metadata": {},
   "outputs": [],
   "source": [
    "# generating data for checking BER\n",
    "N = 70000\n",
    "test_label = np.random.randint(M,size=N)\n",
    "test_data = []\n",
    "\n",
    "for i in test_label:\n",
    "    temp = np.zeros(M)\n",
    "    temp[i] = 1\n",
    "    test_data.append(temp)\n",
    "    \n",
    "test_data = np.array(test_data)"
   ]
  },
  {
   "cell_type": "code",
   "execution_count": 15,
   "metadata": {},
   "outputs": [
    {
     "name": "stdout",
     "output_type": "stream",
     "text": [
      "(16, 1, 2)\n"
     ]
    },
    {
     "data": {
      "image/png": "[encoded data removed]",
      "text/plain": [
       "<Figure size 432x288 with 1 Axes>"
      ]
     },
     "metadata": {
      "needs_background": "light"
     },
     "output_type": "display_data"
    }
   ],
   "source": [
    "# for plotting learned consteallation diagram\n",
    "\n",
    "scatter_plot = []\n",
    "for i in range(0,M):\n",
    "    temp = np.zeros(M)\n",
    "    temp[i] = 1\n",
    "    scatter_plot.append(encoder.predict(np.expand_dims(temp,axis=0)))\n",
    "scatter_plot = np.array(scatter_plot)\n",
    "print (scatter_plot.shape)\n",
    "\n",
    "# ploting constellation diagram\n",
    "import matplotlib.pyplot as plt\n",
    "scatter_plot = scatter_plot.reshape(M,2,1)\n",
    "plt.scatter(scatter_plot[:,0],scatter_plot[:,1])\n",
    "\n",
    "plt.grid()\n",
    "plt.show()"
   ]
  },
  {
   "cell_type": "code",
   "execution_count": 16,
   "metadata": {},
   "outputs": [
    {
     "name": "stdout",
     "output_type": "stream",
     "text": [
      "SNR: 0 BER: 0.6984714285714285\n",
      "SNR: 2 BER: 0.6264857142857143\n",
      "SNR: 4 BER: 0.5430857142857143\n",
      "SNR: 6 BER: 0.44507142857142856\n",
      "SNR: 8 BER: 0.3431\n",
      "SNR: 10 BER: 0.24198571428571428\n",
      "SNR: 12 BER: 0.14905714285714286\n",
      "SNR: 14 BER: 0.0814\n",
      "SNR: 16 BER: 0.03822857142857143\n",
      "SNR: 18 BER: 0.013971428571428572\n",
      "SNR: 20 BER: 0.004914285714285714\n"
     ]
    }
   ],
   "source": [
    "# calculating BER\n",
    "# this is optimized BER function so it can handle large number of N\n",
    "# previous code has another for loop which was making it slow\n",
    "EbNodB_range = list(np.arange(0,20+1,2))\n",
    "ber = [None]*len(EbNodB_range)\n",
    "for n in range(0,len(EbNodB_range)):\n",
    "    EbNo=10.0**(EbNodB_range[n]/10.0)\n",
    "    noise_std = np.sqrt(1/(2*R*EbNo))\n",
    "    noise_mean = 0\n",
    "    no_errors = 0\n",
    "    nn = N\n",
    "    noise = np.random.randn(nn,2*n_channel)*noise_std\n",
    "    encoded_signal = encoder.predict(test_data) \n",
    "    final_signal = encoded_signal + noise\n",
    "    pred_final_signal =  decoder.predict(final_signal)\n",
    "    pred_output = np.argmax(pred_final_signal,axis=1)\n",
    "    no_errors = (pred_output != test_label)\n",
    "    no_errors =  no_errors.astype(int).sum()\n",
    "    ber[n] = no_errors / nn \n",
    "    print ('SNR:',EbNodB_range[n],'BER:',ber[n])"
   ]
  },
  {
   "cell_type": "code",
   "execution_count": 17,
   "metadata": {},
   "outputs": [
    {
     "data": {
      "image/png": "[encoded data removed]",
      "text/plain": [
       "<Figure size 432x288 with 1 Axes>"
      ]
     },
     "metadata": {
      "needs_background": "light"
     },
     "output_type": "display_data"
    }
   ],
   "source": [
    "# ploting ber curve\n",
    "import matplotlib.pyplot as plt\n",
    "from scipy import interpolate\n",
    "plt.plot(EbNodB_range, ber, 'bo',label='Autoencoder')\n",
    "plt.yscale('log')\n",
    "plt.xlabel('SNR Range')\n",
    "plt.ylabel('Block Error Rate')\n",
    "plt.grid()\n",
    "plt.legend(loc='upper right',ncol = 1)\n",
    "plt.show()"
   ]
  },
  {
   "cell_type": "code",
   "execution_count": null,
   "metadata": {},
   "outputs": [],
   "source": []
  }
 ],
 "metadata": {
  "kernelspec": {
   "display_name": "Python 3",
   "language": "python",
   "name": "python3"
  },
  "language_info": {
   "codemirror_mode": {
    "name": "ipython",
    "version": 3
   },
   "file_extension": ".py",
   "mimetype": "text/x-python",
   "name": "python",
   "nbconvert_exporter": "python",
   "pygments_lexer": "ipython3",
   "version": "3.6.8"
  }
 },
 "nbformat": 4,
 "nbformat_minor": 2
}
