{
 "cells": [
  {
   "cell_type": "code",
   "execution_count": 1,
   "metadata": {},
   "outputs": [
    {
     "name": "stderr",
     "output_type": "stream",
     "text": [
      "Using TensorFlow backend.\n"
     ]
    }
   ],
   "source": [
    "# MIT License\n",
    "\n",
    "# Copyright (c) [2019] [Jayden Booth]\n",
    "\n",
    "# Permission is hereby granted, free of charge, to any person obtaining a copy\n",
    "# of this software and associated documentation files (the \"Software\"), to deal\n",
    "# in the Software without restriction, including without limitation the rights\n",
    "# to use, copy, modify, merge, publish, distribute, sublicense, and/or sell\n",
    "# copies of the Software, and to permit persons to whom the Software is\n",
    "# furnished to do so, subject to the following conditions:\n",
    "\n",
    "# The above copyright notice and this permission notice shall be included in all\n",
    "# copies or substantial portions of the Software.\n",
    "\n",
    "# THE SOFTWARE IS PROVIDED \"AS IS\", WITHOUT WARRANTY OF ANY KIND, EXPRESS OR\n",
    "# IMPLIED, INCLUDING BUT NOT LIMITED TO THE WARRANTIES OF MERCHANTABILITY,\n",
    "# FITNESS FOR A PARTICULAR PURPOSE AND NONINFRINGEMENT. IN NO EVENT SHALL THE\n",
    "# AUTHORS OR COPYRIGHT HOLDERS BE LIABLE FOR ANY CLAIM, DAMAGES OR OTHER\n",
    "# LIABILITY, WHETHER IN AN ACTION OF CONTRACT, TORT OR OTHERWISE, ARISING FROM,\n",
    "# OUT OF OR IN CONNECTION WITH THE SOFTWARE OR THE USE OR OTHER DEALINGS IN THE\n",
    "# SOFTWARE.\n",
    "\n",
    "# Import Libraries\n",
    "import numpy as np\n",
    "import tensorflow as tf\n",
    "import keras\n",
    "from keras.layers import Input, Dense, GaussianNoise,Lambda,Dropout, Concatenate\n",
    "from keras.models import Model\n",
    "from keras import regularizers\n",
    "from keras.layers.normalization import BatchNormalization\n",
    "from keras.optimizers import Adam,SGD\n",
    "from keras import backend as K\n",
    "%matplotlib inline"
   ]
  },
  {
   "cell_type": "code",
   "execution_count": 2,
   "metadata": {},
   "outputs": [],
   "source": [
    "# Set random seeds\n",
    "from numpy.random import seed\n",
    "seed(1)\n",
    "from tensorflow import set_random_seed\n",
    "set_random_seed(3)"
   ]
  },
  {
   "cell_type": "code",
   "execution_count": 3,
   "metadata": {},
   "outputs": [
    {
     "name": "stdout",
     "output_type": "stream",
     "text": [
      "M: 4 \t n: 1\n"
     ]
    }
   ],
   "source": [
    "# Set the defining parameters\n",
    "# n = n_channel complex numbers (so 2n real numbers)\n",
    "# k = log2(M), where M is the number of messages to encode\n",
    "# EbNo is the energy per bit to noise power density\n",
    "\n",
    "# Encoder Parameters\n",
    "M = 4\n",
    "k = np.log2(M)\n",
    "n_channel = 1\n",
    "R = k/n_channel\n",
    "power = 2\n",
    "print('M:',M,'\\t','n:',n_channel)\n",
    "\n",
    "# Channel Parameters\n",
    "EbNo=10.0**(7/10.0)\n",
    "noise_std = np.sqrt(1/(2*R*EbNo))\n",
    "num_taps = 1\n",
    "reyleigh_std = num_taps/np.sqrt(2)"
   ]
  },
  {
   "cell_type": "code",
   "execution_count": 4,
   "metadata": {},
   "outputs": [],
   "source": [
    "#generating data of size N\n",
    "N = 16000\n",
    "label = np.random.randint(M,size=N)"
   ]
  },
  {
   "cell_type": "code",
   "execution_count": 5,
   "metadata": {},
   "outputs": [],
   "source": [
    "# creating one hot encoded vectors\n",
    "data = []\n",
    "for i in label:\n",
    "    temp = np.zeros(M)\n",
    "    temp[i] = 1\n",
    "    data.append(temp)"
   ]
  },
  {
   "cell_type": "code",
   "execution_count": 6,
   "metadata": {},
   "outputs": [
    {
     "name": "stdout",
     "output_type": "stream",
     "text": [
      "(16000, 4)\n"
     ]
    }
   ],
   "source": [
    "# checking data shape\n",
    "data = np.array(data)\n",
    "print (data.shape)"
   ]
  },
  {
   "cell_type": "code",
   "execution_count": 7,
   "metadata": {},
   "outputs": [
    {
     "name": "stdout",
     "output_type": "stream",
     "text": [
      "1 [0. 1. 0. 0.]\n",
      "0 [1. 0. 0. 0.]\n",
      "1 [0. 1. 0. 0.]\n",
      "3 [0. 0. 0. 1.]\n",
      "1 [0. 1. 0. 0.]\n",
      "3 [0. 0. 0. 1.]\n",
      "0 [1. 0. 0. 0.]\n",
      "3 [0. 0. 0. 1.]\n",
      "0 [1. 0. 0. 0.]\n"
     ]
    }
   ],
   "source": [
    "# checking generated data with it's label\n",
    "temp_check = [17,23,45,67,89,96,72,250,350]\n",
    "for i in temp_check:\n",
    "    print(label[i],data[i])"
   ]
  },
  {
   "cell_type": "code",
   "execution_count": 8,
   "metadata": {},
   "outputs": [],
   "source": [
    "# Functions that define the Channel. \n",
    "\n",
    "# First the encoder output must be converted to complex samples \n",
    "# Right now I am assuming n = 1 for simplicity\n",
    "\n",
    "def real_to_complex(x):\n",
    "    real = x[:,0]\n",
    "    imag = x[:,1]\n",
    "    return tf.reshape(tf.dtypes.complex(real,imag),shape=[-1,1])\n",
    "\n",
    "def complex_to_real(x):\n",
    "    real = tf.math.real(x)\n",
    "    imag = tf.math.imag(tf.dtypes.cast(x,tf.complex64))\n",
    "    real_expand = tf.expand_dims(real,-1)\n",
    "    imag_expand = tf.expand_dims(imag,-1)\n",
    "    concated = tf.concat([real_expand, imag_expand],-1)\n",
    "    return tf.reshape(concated,shape=[-1,2])\n",
    "\n",
    "# Define the Channel Layer for training, as well as the channel function for testing.\n",
    "# A single tap channel will be implemented initially, and then a multi tap channel will be used.\n",
    "\n",
    "def reyleigh_single_tap_train (x):\n",
    "    EbNo_train = K.variable(5.01187, dtype='float32')  #  coverted 7 db of EbNo\n",
    "    noise_std = K.sqrt(1/(2*R*EbNo_train))\n",
    "    \n",
    "    # Create random Complex Channel with single tap\n",
    "    h_real = 1/np.sqrt(2)*K.random_normal((n_channel,),mean=0,stddev=1)\n",
    "    h_imag = 1/np.sqrt(2)*K.random_normal((n_channel,),mean=0,stddev=1)\n",
    "    h = tf.dtypes.complex(h_real,h_imag)\n",
    "    \n",
    "    # Create random Complex Gaussian Noise\n",
    "    noise_real = 1/np.sqrt(2)*K.random_normal((n_channel,),mean=0,stddev=noise_std)\n",
    "    noise_imag = 1/np.sqrt(2)*K.random_normal((n_channel,),mean=0,stddev=noise_std)\n",
    "    noise = tf.dtypes.complex(noise_real,noise_imag)\n",
    "    \n",
    "    return h*tf.dtypes.cast(x,tf.complex64)+noise\n",
    "\n",
    "def reyleigh_single_tap (signal,noise_std,nrow,ncol):\n",
    "    # Create random Complex Channel with single tap\n",
    "    channel_real = 1/np.sqrt(2)*np.random.randn(nrow,ncol)\n",
    "    channel_imag = 1/np.sqrt(2)*np.random.randn(nrow,ncol)\n",
    "    channel = channel_real + 1j*channel_imag\n",
    "    \n",
    "    # Create random Complex Gaussian Noise\n",
    "    noise_real = noise_std/np.sqrt(2)*np.random.randn(nrow,ncol)\n",
    "    noise_imag = noise_std/np.sqrt(2)*np.random.randn(nrow,ncol)\n",
    "    noise = noise_real + 1j*noise_imag\n",
    "    return np.multiply(channel,signal)+noise\n",
    "\n",
    "def reyleigh_channel(signal,noise_std,nrow,ncol,ntaps):\n",
    "    output = np.zeros([nrow,ncol])\n",
    "    \n",
    "    for L in range(1,ntaps+1):\n",
    "        channel_std = 1/(L*np.sqrt(2))\n",
    "        channel = np.multiply(channel_std,np.random.randn(nrow,ncol))\n",
    "        output = output + np.multiply(signal,channel)\n",
    "\n",
    "    return output + noise_std*np.random.randn(nrow,ncol)\n",
    "\n",
    "def reyleigh_train_2(x):\n",
    "    ntaps = 3\n",
    "    noise_std = 5.01187 #  coverted 7 db of EbNo\n",
    "    nrow = 1\n",
    "    ncol = 2*n_channel\n",
    "    channel_std = 1/(ntaps)\n",
    "    output = x*K.random_normal((2*n_channel,),mean=0,stddev=channel_std)\n",
    "    \n",
    "    for L in range(2,ntaps+1):\n",
    "        channel = K.random_normal((2*n_channel,),mean=0,stddev=channel_std)\n",
    "        output = output + x*channel\n",
    "\n",
    "    return output + K.random_normal((2*n_channel,),mean=0,stddev=noise_std)"
   ]
  },
  {
   "cell_type": "code",
   "execution_count": 9,
   "metadata": {},
   "outputs": [
    {
     "name": "stderr",
     "output_type": "stream",
     "text": [
      "WARNING: Logging before flag parsing goes to stderr.\n",
      "W0719 09:39:00.470963 140086448047936 deprecation_wrapper.py:119] From /usr/local/lib/python3.6/dist-packages/keras/backend/tensorflow_backend.py:74: The name tf.get_default_graph is deprecated. Please use tf.compat.v1.get_default_graph instead.\n",
      "\n",
      "W0719 09:39:00.471649 140086448047936 deprecation_wrapper.py:119] From /usr/local/lib/python3.6/dist-packages/keras/backend/tensorflow_backend.py:517: The name tf.placeholder is deprecated. Please use tf.compat.v1.placeholder instead.\n",
      "\n",
      "W0719 09:39:00.492176 140086448047936 deprecation_wrapper.py:119] From /usr/local/lib/python3.6/dist-packages/keras/backend/tensorflow_backend.py:4115: The name tf.random_normal is deprecated. Please use tf.random.normal instead.\n",
      "\n",
      "W0719 09:39:00.553892 140086448047936 deprecation_wrapper.py:119] From /usr/local/lib/python3.6/dist-packages/keras/backend/tensorflow_backend.py:2741: The name tf.Session is deprecated. Please use tf.compat.v1.Session instead.\n",
      "\n",
      "W0719 09:39:00.554906 140086448047936 deprecation_wrapper.py:119] From /usr/local/lib/python3.6/dist-packages/keras/backend/tensorflow_backend.py:174: The name tf.get_default_session is deprecated. Please use tf.compat.v1.get_default_session instead.\n",
      "\n"
     ]
    },
    {
     "data": {
      "text/plain": [
       "array([[ -0.9464419 ,   0.68913674],\n",
       "       [ -1.5816816 ,  -4.448108  ],\n",
       "       [ -0.60854155,  -2.3497143 ],\n",
       "       [ -3.5351918 ,  -2.1065853 ],\n",
       "       [ -5.954816  ,  -6.065078  ],\n",
       "       [-14.254947  , -21.961578  ],\n",
       "       [ -9.687916  ,  -7.810955  ],\n",
       "       [-28.245138  ,   5.808028  ],\n",
       "       [ 13.604551  ,  -7.4816847 ],\n",
       "       [ 35.678596  ,  22.645836  ]], dtype=float32)"
      ]
     },
     "execution_count": 9,
     "metadata": {},
     "output_type": "execute_result"
    }
   ],
   "source": [
    "input_signal = Input(shape=(2,))\n",
    "test1 = Lambda(real_to_complex)(input_signal)\n",
    "test2 = Lambda(reyleigh_single_tap_train)(test1)\n",
    "test3 = Lambda(complex_to_real)(test2)\n",
    "test = Model(input_signal,test1)\n",
    "\n",
    "input_signal2 = Input(shape=(1,),dtype='complex64')\n",
    "test4 = Lambda(complex_to_real)(input_signal2)\n",
    "test5 = Model(input_signal2,test4)\n",
    "\n",
    "length = 10\n",
    "test_in = np.reshape(np.arange(0,length*2),(length,2))\n",
    "test.predict(test_in)\n",
    "\n",
    "test5.predict(reyleigh_single_tap(test.predict(test_in),1,10,1))"
   ]
  },
  {
   "cell_type": "code",
   "execution_count": 10,
   "metadata": {},
   "outputs": [
    {
     "name": "stderr",
     "output_type": "stream",
     "text": [
      "W0719 09:39:01.420792 140086448047936 deprecation_wrapper.py:119] From /usr/local/lib/python3.6/dist-packages/keras/optimizers.py:790: The name tf.train.Optimizer is deprecated. Please use tf.compat.v1.train.Optimizer instead.\n",
      "\n"
     ]
    }
   ],
   "source": [
    "# Defined Autoencoder\n",
    "\n",
    "# Transmitter Layers\n",
    "input_signal = Input(shape=(M,))\n",
    "encoded = Dense(M, activation='relu')(input_signal)\n",
    "encoded1 = Dense(2*n_channel, activation='linear')(encoded)\n",
    "encoded2 = BatchNormalization()(encoded1)\n",
    "encoded3 = Lambda(lambda x:2*K.l2_normalize(x,axis=-1))(encoded2)\n",
    "\n",
    "# Reyleigh Channel Layer\n",
    "EbNo_train = 5.01187 #  coverted 7 db of EbNo\n",
    "channel_in = Lambda(real_to_complex)(encoded2)\n",
    "channel = Lambda(reyleigh_single_tap_train)(channel_in)\n",
    "channel_out = Lambda(complex_to_real)(channel)\n",
    "\n",
    "# Reciever Layer\n",
    "decoded = Dense(256, activation='relu')(channel_out)\n",
    "decoded1 = Dense(M, activation='softmax')(decoded)\n",
    "autoencoder = Model(input_signal, decoded1)\n",
    "adam = Adam(lr=0.01)\n",
    "sgd = SGD(lr=0.03)\n",
    "autoencoder.compile(optimizer=adam, loss='categorical_crossentropy')"
   ]
  },
  {
   "cell_type": "code",
   "execution_count": 11,
   "metadata": {},
   "outputs": [
    {
     "name": "stdout",
     "output_type": "stream",
     "text": [
      "_________________________________________________________________\n",
      "Layer (type)                 Output Shape              Param #   \n",
      "=================================================================\n",
      "input_3 (InputLayer)         (None, 4)                 0         \n",
      "_________________________________________________________________\n",
      "dense_1 (Dense)              (None, 4)                 20        \n",
      "_________________________________________________________________\n",
      "dense_2 (Dense)              (None, 2)                 10        \n",
      "_________________________________________________________________\n",
      "batch_normalization_1 (Batch (None, 2)                 8         \n",
      "_________________________________________________________________\n",
      "lambda_6 (Lambda)            (None, 1)                 0         \n",
      "_________________________________________________________________\n",
      "lambda_7 (Lambda)            (None, 1)                 0         \n",
      "_________________________________________________________________\n",
      "lambda_8 (Lambda)            (None, 2)                 0         \n",
      "_________________________________________________________________\n",
      "dense_3 (Dense)              (None, 256)               768       \n",
      "_________________________________________________________________\n",
      "dense_4 (Dense)              (None, 4)                 1028      \n",
      "=================================================================\n",
      "Total params: 1,834\n",
      "Trainable params: 1,830\n",
      "Non-trainable params: 4\n",
      "_________________________________________________________________\n",
      "None\n"
     ]
    }
   ],
   "source": [
    "# printing summary of layers and it's trainable parameters \n",
    "print (autoencoder.summary())"
   ]
  },
  {
   "cell_type": "code",
   "execution_count": 12,
   "metadata": {},
   "outputs": [
    {
     "name": "stderr",
     "output_type": "stream",
     "text": [
      "W0719 09:39:01.514925 140086448047936 deprecation.py:323] From /usr/local/lib/python3.6/dist-packages/tensorflow/python/ops/math_grad.py:1250: add_dispatch_support.<locals>.wrapper (from tensorflow.python.ops.array_ops) is deprecated and will be removed in a future version.\n",
      "Instructions for updating:\n",
      "Use tf.where in 2.0, which has the same broadcast rule as np.where\n"
     ]
    },
    {
     "name": "stdout",
     "output_type": "stream",
     "text": [
      "Epoch 1/50\n",
      "16000/16000 [==============================] - 1s 37us/step - loss: 1.3598\n",
      "Epoch 2/50\n",
      "16000/16000 [==============================] - 0s 2us/step - loss: 1.5998\n",
      "Epoch 3/50\n",
      "16000/16000 [==============================] - 0s 2us/step - loss: 1.3338\n",
      "Epoch 4/50\n",
      "16000/16000 [==============================] - 0s 2us/step - loss: 1.2236\n",
      "Epoch 5/50\n",
      "16000/16000 [==============================] - 0s 2us/step - loss: 1.0742\n",
      "Epoch 6/50\n",
      "16000/16000 [==============================] - 0s 2us/step - loss: 1.0485\n",
      "Epoch 7/50\n",
      "16000/16000 [==============================] - 0s 2us/step - loss: 1.1826\n",
      "Epoch 8/50\n",
      "16000/16000 [==============================] - 0s 2us/step - loss: 0.9103\n",
      "Epoch 9/50\n",
      "16000/16000 [==============================] - 0s 2us/step - loss: 1.1705\n",
      "Epoch 10/50\n",
      "16000/16000 [==============================] - 0s 2us/step - loss: 0.9636\n",
      "Epoch 11/50\n",
      "16000/16000 [==============================] - 0s 2us/step - loss: 0.8501\n",
      "Epoch 12/50\n",
      "16000/16000 [==============================] - 0s 2us/step - loss: 0.7221\n",
      "Epoch 13/50\n",
      "16000/16000 [==============================] - 0s 2us/step - loss: 0.9637\n",
      "Epoch 14/50\n",
      "16000/16000 [==============================] - 0s 2us/step - loss: 0.8652\n",
      "Epoch 15/50\n",
      "16000/16000 [==============================] - 0s 2us/step - loss: 0.8119\n",
      "Epoch 16/50\n",
      "16000/16000 [==============================] - 0s 2us/step - loss: 1.0082\n",
      "Epoch 17/50\n",
      "16000/16000 [==============================] - 0s 2us/step - loss: 0.8230\n",
      "Epoch 18/50\n",
      "16000/16000 [==============================] - 0s 2us/step - loss: 0.9586\n",
      "Epoch 19/50\n",
      "16000/16000 [==============================] - 0s 2us/step - loss: 0.6732\n",
      "Epoch 20/50\n",
      "16000/16000 [==============================] - 0s 2us/step - loss: 0.8517\n",
      "Epoch 21/50\n",
      "16000/16000 [==============================] - 0s 2us/step - loss: 0.8118\n",
      "Epoch 22/50\n",
      "16000/16000 [==============================] - 0s 2us/step - loss: 0.6207\n",
      "Epoch 23/50\n",
      "16000/16000 [==============================] - 0s 2us/step - loss: 0.8253\n",
      "Epoch 24/50\n",
      "16000/16000 [==============================] - 0s 2us/step - loss: 0.5645\n",
      "Epoch 25/50\n",
      "16000/16000 [==============================] - 0s 3us/step - loss: 0.6630\n",
      "Epoch 26/50\n",
      "16000/16000 [==============================] - 0s 2us/step - loss: 0.6738\n",
      "Epoch 27/50\n",
      "16000/16000 [==============================] - 0s 2us/step - loss: 0.6738\n",
      "Epoch 28/50\n",
      "16000/16000 [==============================] - 0s 2us/step - loss: 0.7663\n",
      "Epoch 29/50\n",
      "16000/16000 [==============================] - 0s 2us/step - loss: 0.8116\n",
      "Epoch 30/50\n",
      "16000/16000 [==============================] - 0s 2us/step - loss: 1.0273\n",
      "Epoch 31/50\n",
      "16000/16000 [==============================] - 0s 2us/step - loss: 0.7454\n",
      "Epoch 32/50\n",
      "16000/16000 [==============================] - 0s 2us/step - loss: 0.8462\n",
      "Epoch 33/50\n",
      "16000/16000 [==============================] - 0s 3us/step - loss: 0.6720\n",
      "Epoch 34/50\n",
      "16000/16000 [==============================] - 0s 2us/step - loss: 0.6781\n",
      "Epoch 35/50\n",
      "16000/16000 [==============================] - 0s 2us/step - loss: 0.8394\n",
      "Epoch 36/50\n",
      "16000/16000 [==============================] - 0s 2us/step - loss: 0.6252\n",
      "Epoch 37/50\n",
      "16000/16000 [==============================] - 0s 2us/step - loss: 0.8016\n",
      "Epoch 38/50\n",
      "16000/16000 [==============================] - 0s 2us/step - loss: 0.5907\n",
      "Epoch 39/50\n",
      "16000/16000 [==============================] - 0s 2us/step - loss: 0.6373\n",
      "Epoch 40/50\n",
      "16000/16000 [==============================] - 0s 2us/step - loss: 0.6349\n",
      "Epoch 41/50\n",
      "16000/16000 [==============================] - 0s 2us/step - loss: 0.5630\n",
      "Epoch 42/50\n",
      "16000/16000 [==============================] - 0s 2us/step - loss: 0.5487\n",
      "Epoch 43/50\n",
      "16000/16000 [==============================] - 0s 2us/step - loss: 0.8511\n",
      "Epoch 44/50\n",
      "16000/16000 [==============================] - 0s 2us/step - loss: 0.6925\n",
      "Epoch 45/50\n",
      "16000/16000 [==============================] - 0s 2us/step - loss: 0.6393\n",
      "Epoch 46/50\n",
      "16000/16000 [==============================] - 0s 2us/step - loss: 0.7778\n",
      "Epoch 47/50\n",
      "16000/16000 [==============================] - 0s 2us/step - loss: 0.6458\n",
      "Epoch 48/50\n",
      "16000/16000 [==============================] - 0s 2us/step - loss: 0.7728\n",
      "Epoch 49/50\n",
      "16000/16000 [==============================] - 0s 2us/step - loss: 0.9364\n",
      "Epoch 50/50\n",
      "16000/16000 [==============================] - 0s 2us/step - loss: 0.6944\n"
     ]
    },
    {
     "data": {
      "text/plain": [
       "<keras.callbacks.History at 0x7f67e12d0b38>"
      ]
     },
     "execution_count": 12,
     "metadata": {},
     "output_type": "execute_result"
    }
   ],
   "source": [
    "# traning auto encoder\n",
    "autoencoder.fit(data, data,\n",
    "                epochs=50,\n",
    "                batch_size=2048)"
   ]
  },
  {
   "cell_type": "code",
   "execution_count": 13,
   "metadata": {},
   "outputs": [],
   "source": [
    "# making encoder from full autoencoder\n",
    "encoder = Model(input_signal, encoded3)"
   ]
  },
  {
   "cell_type": "code",
   "execution_count": 14,
   "metadata": {},
   "outputs": [],
   "source": [
    "# making channel from full autoencoder\n",
    "channel_input = Input(shape=(2*n_channel,))\n",
    "\n",
    "chan = autoencoder.layers[-5](channel_input)\n",
    "chan = autoencoder.layers[-4](chan)\n",
    "chan = autoencoder.layers[-3](chan)\n",
    "channel_layer = Model(channel_input,chan)"
   ]
  },
  {
   "cell_type": "code",
   "execution_count": 15,
   "metadata": {},
   "outputs": [],
   "source": [
    "# making decoder from full autoencoder\n",
    "encoded_input = Input(shape=(2*n_channel,))\n",
    "\n",
    "deco = autoencoder.layers[-2](encoded_input)\n",
    "deco = autoencoder.layers[-1](deco)\n",
    "decoder = Model(encoded_input, deco)"
   ]
  },
  {
   "cell_type": "code",
   "execution_count": 16,
   "metadata": {},
   "outputs": [],
   "source": [
    "# generating data for checking BER\n",
    "N = 70000\n",
    "test_label = np.random.randint(M,size=N)\n",
    "test_data = []\n",
    "\n",
    "for i in test_label:\n",
    "    temp = np.zeros(M)\n",
    "    temp[i] = 1\n",
    "    test_data.append(temp)\n",
    "    \n",
    "test_data = np.array(test_data)"
   ]
  },
  {
   "cell_type": "code",
   "execution_count": 17,
   "metadata": {},
   "outputs": [
    {
     "name": "stdout",
     "output_type": "stream",
     "text": [
      "(4, 1, 2)\n"
     ]
    }
   ],
   "source": [
    "# for plotting learned consteallation diagram\n",
    "\n",
    "scatter_plot = []\n",
    "for i in range(0,M):\n",
    "    temp = np.zeros(M)\n",
    "    temp[i] = 1\n",
    "    scatter_plot.append(encoder.predict(np.expand_dims(temp,axis=0)))\n",
    "scatter_plot = np.array(scatter_plot)\n",
    "print (scatter_plot.shape)"
   ]
  },
  {
   "cell_type": "code",
   "execution_count": 18,
   "metadata": {},
   "outputs": [
    {
     "data": {
      "image/png": "[encoded data removed]",
      "text/plain": [
       "<Figure size 432x288 with 1 Axes>"
      ]
     },
     "metadata": {
      "needs_background": "light"
     },
     "output_type": "display_data"
    }
   ],
   "source": [
    "# ploting constellation diagram\n",
    "import matplotlib.pyplot as plt\n",
    "scatter_plot = scatter_plot.reshape(M,2,1)\n",
    "plt.scatter(scatter_plot[:,0],scatter_plot[:,1])\n",
    "#plt.axis((-2.5,2.5,-2.5,2.5))\n",
    "plt.grid()\n",
    "plt.show()"
   ]
  },
  {
   "cell_type": "code",
   "execution_count": 19,
   "metadata": {},
   "outputs": [
    {
     "name": "stdout",
     "output_type": "stream",
     "text": [
      "(4, 1, 2)\n"
     ]
    },
    {
     "data": {
      "image/png": "[encoded data removed]",
      "text/plain": [
       "<Figure size 432x288 with 1 Axes>"
      ]
     },
     "metadata": {
      "needs_background": "light"
     },
     "output_type": "display_data"
    }
   ],
   "source": [
    "# for plotting learned consteallation diagram after reyliegh channel\n",
    "\n",
    "scatter_plot = []\n",
    "for i in range(0,M):\n",
    "    temp = np.zeros(M)\n",
    "    temp[i] = 1\n",
    "    scatter_plot.append(channel_layer.predict(encoder.predict(np.expand_dims(temp,axis=0))))\n",
    "scatter_plot = np.array(scatter_plot)\n",
    "print (scatter_plot.shape)\n",
    "\n",
    "# ploting constellation diagram\n",
    "import matplotlib.pyplot as plt\n",
    "scatter_plot = scatter_plot.reshape(M,2,1)\n",
    "plt.scatter(scatter_plot[:,0],scatter_plot[:,1])\n",
    "#plt.axis((-2.5,2.5,-2.5,2.5))\n",
    "plt.grid()\n",
    "plt.show()"
   ]
  },
  {
   "cell_type": "code",
   "execution_count": 20,
   "metadata": {},
   "outputs": [
    {
     "name": "stderr",
     "output_type": "stream",
     "text": [
      "/usr/local/lib/python3.6/dist-packages/numpy/core/numeric.py:538: ComplexWarning: Casting complex values to real discards the imaginary part\n",
      "  return array(a, dtype, copy=False, order=order)\n"
     ]
    },
    {
     "name": "stdout",
     "output_type": "stream",
     "text": [
      "SNR: 0 BER: 0.7480714285714286\n",
      "SNR: 2 BER: 0.7503142857142857\n",
      "SNR: 4 BER: 0.7498\n",
      "SNR: 6 BER: 0.7530714285714286\n",
      "SNR: 8 BER: 0.7554857142857143\n",
      "SNR: 10 BER: 0.7592571428571429\n",
      "SNR: 12 BER: 0.7605142857142857\n",
      "SNR: 14 BER: 0.7583285714285715\n",
      "SNR: 16 BER: 0.7580714285714286\n",
      "SNR: 18 BER: 0.7622857142857142\n",
      "SNR: 20 BER: 0.7586428571428572\n"
     ]
    }
   ],
   "source": [
    "# calculating BER\n",
    "# this is optimized BER function so it can handle large number of N\n",
    "# previous code has another for loop which was making it slow\n",
    "EbNodB_range = list(np.arange(0,20+1,2))\n",
    "ber = [None]*len(EbNodB_range)\n",
    "for n in range(0,len(EbNodB_range)):\n",
    "    EbNo=10.0**(EbNodB_range[n]/10.0)\n",
    "    noise_std = np.sqrt(1/(2*R*EbNo))\n",
    "    noise_mean = 0\n",
    "    no_errors = 0\n",
    "    nn = N\n",
    "    encoded_signal = encoder.predict(test_data) \n",
    "    final_signal = reyleigh_single_tap(encoded_signal,noise_std,nn,1)\n",
    "    pred_final_signal =  decoder.predict(final_signal)\n",
    "    pred_output = np.argmax(pred_final_signal,axis=1)\n",
    "    no_errors = (pred_output != test_label)\n",
    "    no_errors =  no_errors.astype(int).sum()\n",
    "    ber[n] = no_errors / nn \n",
    "    print ('SNR:',EbNodB_range[n],'BER:',ber[n])"
   ]
  },
  {
   "cell_type": "code",
   "execution_count": 21,
   "metadata": {},
   "outputs": [
    {
     "data": {
      "image/png": "[encoded data removed]",
      "text/plain": [
       "<Figure size 432x288 with 1 Axes>"
      ]
     },
     "metadata": {
      "needs_background": "light"
     },
     "output_type": "display_data"
    }
   ],
   "source": [
    "# ploting ber curve\n",
    "import matplotlib.pyplot as plt\n",
    "from scipy import interpolate\n",
    "plt.plot(EbNodB_range, ber, 'bo',label='Autoencoder(1,2)')\n",
    "plt.yscale('log')\n",
    "plt.xlabel('SNR Range')\n",
    "plt.ylabel('Block Error Rate')\n",
    "plt.grid()\n",
    "plt.legend(loc='upper right',ncol = 1)\n",
    "plt.show()"
   ]
  },
  {
   "cell_type": "code",
   "execution_count": null,
   "metadata": {},
   "outputs": [],
   "source": []
  }
 ],
 "metadata": {
  "kernelspec": {
   "display_name": "Python 3",
   "language": "python",
   "name": "python3"
  },
  "language_info": {
   "codemirror_mode": {
    "name": "ipython",
    "version": 3
   },
   "file_extension": ".py",
   "mimetype": "text/x-python",
   "name": "python",
   "nbconvert_exporter": "python",
   "pygments_lexer": "ipython3",
   "version": "3.6.8"
  }
 },
 "nbformat": 4,
 "nbformat_minor": 2
}
